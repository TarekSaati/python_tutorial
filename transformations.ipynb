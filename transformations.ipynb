{
 "cells": [
  {
   "cell_type": "code",
   "execution_count": 4,
   "metadata": {},
   "outputs": [],
   "source": [
    "from matplotlib import pyplot as plt \n",
    "%matplotlib inline\n",
    "import numpy as np\n",
    "from skimage import io, transform, color\n",
    "from math import pi, cos, sin"
   ]
  },
  {
   "cell_type": "code",
   "execution_count": null,
   "metadata": {},
   "outputs": [],
   "source": [
    "testIm = io.imread('coffe.jpg')\n",
    "grayIm = color.rgb2gray(testIm)\n",
    "io.imshow(testIm[:,:,:])\n",
    "print(testIm[:,:,2])\n"
   ]
  },
  {
   "cell_type": "code",
   "execution_count": null,
   "metadata": {},
   "outputs": [],
   "source": [
    "rotAng = 0\n",
    "Rtrans = np.array([[1, 1, 80], [-1, 1, 60], [1e-5, 1e-4, 1]])\n",
    "Rtrans = Rtrans @ np.array([[cos(rotAng), -sin(rotAng), 0], [sin(rotAng), cos(rotAng), 0], [0, 0, 1]])\n",
    "Rtrans = Rtrans @ np.diag([.5, .5, 1])\n",
    "\n",
    "Rtrans = transform.ProjectiveTransform(Rtrans)\n",
    "transIm = transform.warp(testIm, np.linalg.inv(Rtrans))\n",
    "transIm = transform.warp(transIm, Rtrans)\n",
    "io.imshow(transIm)\n"
   ]
  },
  {
   "cell_type": "code",
   "execution_count": null,
   "metadata": {},
   "outputs": [],
   "source": [
    "import cv2\n",
    "black=np.zeros(testIm.shape[:2], dtype='uint8')\n",
    "mask=cv2.circle(black, (1100, 600), 300, 255, -1)\n",
    "masked_img = cv2.bitwise_and(testIm, testIm, mask=mask)\n",
    "io.imshow(masked_img)"
   ]
  }
 ],
 "metadata": {
  "kernelspec": {
   "display_name": ".venv",
   "language": "python",
   "name": "python3"
  },
  "language_info": {
   "codemirror_mode": {
    "name": "ipython",
    "version": 3
   },
   "file_extension": ".py",
   "mimetype": "text/x-python",
   "name": "python",
   "nbconvert_exporter": "python",
   "pygments_lexer": "ipython3",
   "version": "3.8.0"
  },
  "orig_nbformat": 4
 },
 "nbformat": 4,
 "nbformat_minor": 2
}
