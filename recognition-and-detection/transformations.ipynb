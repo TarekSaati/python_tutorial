{
 "cells": [
  {
   "cell_type": "code",
   "execution_count": 1,
   "metadata": {},
   "outputs": [],
   "source": [
    "from matplotlib import pyplot as plt \n",
    "%matplotlib inline\n",
    "import numpy as np\n",
    "from skimage import io, transform, color\n",
    "from math import pi, cos, sin\n",
    "import cv2 as cv"
   ]
  },
  {
   "cell_type": "code",
   "execution_count": null,
   "metadata": {},
   "outputs": [],
   "source": [
    "testIm = cv.imread('coffe.jpg')\n",
    "grayIm = cv.cvtColor(testIm, cv.COLOR_BGR2GRAY)\n",
    "io.imshow(grayIm)"
   ]
  },
  {
   "cell_type": "code",
   "execution_count": null,
   "metadata": {},
   "outputs": [],
   "source": [
    "eq = cv.equalizeHist(grayIm)\n",
    "bf = cv.bilateralFilter(grayIm, 15, 2, 2)\n",
    "gb = cv.GaussianBlur(grayIm, (31, 31), 100)\n",
    "mb = cv.medianBlur(grayIm, 15)\n",
    "io.imshow(mb)"
   ]
  },
  {
   "cell_type": "code",
   "execution_count": null,
   "metadata": {},
   "outputs": [],
   "source": [
    "_, thresh_img = cv.threshold(grayIm, 160, 255, cv.THRESH_BINARY)\n",
    "edges=cv.Canny(grayIm, 50, 80)\n",
    "io.imshow(edges)"
   ]
  },
  {
   "cell_type": "code",
   "execution_count": null,
   "metadata": {},
   "outputs": [],
   "source": [
    "rotAng = 0\n",
    "Rtrans = np.array([[1, 1, 80], [-1, 1, 60], [1e-5, 1e-4, 1]])\n",
    "Rtrans = Rtrans @ np.array([[cos(rotAng), -sin(rotAng), 0], [sin(rotAng), cos(rotAng), 0], [0, 0, 1]])\n",
    "Rtrans = Rtrans @ np.diag([.5, .5, 1])\n",
    "\n",
    "Rtrans = transform.ProjectiveTransform(Rtrans)\n",
    "transIm = transform.warp(testIm, np.linalg.inv(Rtrans))\n",
    "transIm = transform.warp(transIm, Rtrans)\n",
    "io.imshow(transIm)\n"
   ]
  },
  {
   "cell_type": "code",
   "execution_count": null,
   "metadata": {},
   "outputs": [],
   "source": [
    "black=np.zeros(testIm.shape[:2], dtype='uint8')\n",
    "mask=cv.circle(black, (1100, 600), 300, 255, -1)\n",
    "masked_img = cv.bitwise_and(testIm, testIm, mask=mask)\n",
    "io.imshow(masked_img)"
   ]
  },
  {
   "cell_type": "markdown",
   "metadata": {},
   "source": [
    "### Homework"
   ]
  },
  {
   "cell_type": "code",
   "execution_count": null,
   "metadata": {},
   "outputs": [],
   "source": [
    "hw = cv.imread('hw.jpg')\n",
    "io.imshow(hw)"
   ]
  },
  {
   "cell_type": "code",
   "execution_count": null,
   "metadata": {},
   "outputs": [],
   "source": [
    "## thresholding\n",
    "b_hw = hw[:,:,2]\n",
    "width, height = hw.shape[1], hw.shape[0]\n",
    "_, thresh_img = cv.threshold(b_hw, 200, 255, cv.THRESH_BINARY)\n",
    "io.imshow(thresh_img)"
   ]
  },
  {
   "cell_type": "code",
   "execution_count": null,
   "metadata": {},
   "outputs": [],
   "source": [
    "## 2D transformations\n",
    "Y, X = np.argwhere(thresh_img == 255)[:,0], np.argwhere(thresh_img == 255)[:,1]\n",
    "pmin, pmax = [np.min(X), np.min(Y)], [np.max(X), np.max(Y)]\n",
    "center = (X.sum()//len(X), Y.sum()//len(Y))\n",
    "angle = np.arctan2(pmax[1]-pmin[1], pmax[0]-pmin[0])*180.0/np.pi\n",
    "transMat=cv.getRotationMatrix2D(center, angle, 1)\n",
    "result = cv.warpAffine(hw, transMat, dsize=(width, height))\n",
    "black=np.zeros(result.shape[:2], dtype='uint8')\n",
    "mask=cv.circle(black, (350, 250), 150, 255, -1)\n",
    "result = cv.bitwise_and(result, result, mask=mask)\n",
    "io.imshow(result)"
   ]
  },
  {
   "cell_type": "code",
   "execution_count": 5,
   "metadata": {},
   "outputs": [],
   "source": [
    "testIm = cv.imread('noisy2.jpg')\n",
    "grayIm = cv.cvtColor(testIm, cv.COLOR_BGR2GRAY)\n",
    "# eq = cv.equalizeHist(grayIm)\n",
    "bf = cv.bilateralFilter(testIm, -1, 100, 20)\n",
    "# gb = cv.GaussianBlur(grayIm, (7, 7), 100)\n",
    "mb = cv.medianBlur(testIm, 15)\n",
    "io.imshow(bf)"
   ]
  }
 ],
 "metadata": {
  "kernelspec": {
   "display_name": ".venv",
   "language": "python",
   "name": "python3"
  },
  "language_info": {
   "codemirror_mode": {
    "name": "ipython",
    "version": 3
   },
   "file_extension": ".py",
   "mimetype": "text/x-python",
   "name": "python",
   "nbconvert_exporter": "python",
   "pygments_lexer": "ipython3",
   "version": "3.8.0"
  },
  "orig_nbformat": 4
 },
 "nbformat": 4,
 "nbformat_minor": 2
}
