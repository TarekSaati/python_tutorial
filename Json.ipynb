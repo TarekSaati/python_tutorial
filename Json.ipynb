{
 "cells": [
  {
   "cell_type": "code",
   "execution_count": null,
   "metadata": {},
   "outputs": [],
   "source": [
    "# dict serialization (encoding)\n",
    "import json\n",
    "person = {\"name\": \"tarek\", \"age\": 30, \"city\":\"Damascus\", \"titles\" : [\"engineer\", \"programmer\"]}\n",
    "personJson = json.dumps(person, indent=4, sort_keys=True)\n",
    "print(personJson)\n",
    "with open('person.json','w') as f:\n",
    "    json.dump(person, f, indent=4, sort_keys=True)\n"
   ]
  },
  {
   "cell_type": "code",
   "execution_count": 3,
   "metadata": {},
   "outputs": [],
   "source": [
    "Electronics = {\n",
    "    'Laptops': ['HP', 'DELL', 'ASUS', 'ACER'],\n",
    "    'SmartPhones': ['Samsung', 'Huawei', 'Nokia'],\n",
    "    'TVs': ['Samsung', 'LG', 'Toshiba']\n",
    "}\n",
    "Goods = {\n",
    "    'Vegetables': ['tomato', 'eggplant', 'potato'],\n",
    "    'Fruits': ['raspberry', 'banana', 'apple'],\n",
    "}\n",
    "import json\n",
    "\n",
    "with open('Electronics.json','w') as f:\n",
    "    json.dump(Electronics, f, indent=4)\n",
    "with open('Goods.json','w') as f:\n",
    "    json.dump(Goods, f, indent=4)\n"
   ]
  },
  {
   "cell_type": "code",
   "execution_count": null,
   "metadata": {},
   "outputs": [],
   "source": [
    "# dict de-serialization (decoding)\n",
    "import json\n",
    "personLoad = json.loads(personJson)\n",
    "print(personLoad)\n",
    "with open('person.json','r') as f:\n",
    "     personLoad = json.load(f)\n",
    "     print(personLoad)\n",
    "person['city']"
   ]
  },
  {
   "cell_type": "code",
   "execution_count": null,
   "metadata": {},
   "outputs": [],
   "source": [
    "# class instance serialization\n",
    "class User:\n",
    "    def __init__(self, name, age):\n",
    "        self.name=name\n",
    "        self.age=age\n",
    "\n",
    "user = User('tarek', 30)\n",
    "# Calss objects are not serializable => define a function to turn it to dictionary:\n",
    "def encode_user(u):\n",
    "    # check if 'u' is an instance of class 'User' \n",
    "    if isinstance(u, User):\n",
    "        return {\"name\": u.name, \"age\": u.age, u.__class__.__name__: True} \n",
    "    else:\n",
    "        raise TypeError()\n",
    "\n",
    "output = json.dumps(user, default=encode_user, indent=4, sort_keys=True)\n",
    "# we can override the 'defalut' method in jsonEncoder:\n",
    "class myEncoder(json.JSONEncoder):\n",
    "    def default(self, o):\n",
    "        if isinstance(o, User):\n",
    "            return {\"name\": o.name, \"age\": o.age, o.__class__.__name__: True} \n",
    "        else:\n",
    "            super().default(o)\n",
    "output = myEncoder().encode(user)\n",
    "print(output)\n",
    "output = json.dumps(user, cls=myEncoder)\n",
    "print(output)"
   ]
  },
  {
   "cell_type": "code",
   "execution_count": 26,
   "metadata": {},
   "outputs": [
    {
     "data": {
      "text/plain": [
       "(30, 'tarek', __main__.User)"
      ]
     },
     "execution_count": 26,
     "metadata": {},
     "output_type": "execute_result"
    }
   ],
   "source": [
    "# class instance de-serialization\n",
    "def user_decoder(dct):\n",
    "    if User.__name__ in dct:\n",
    "        return User(name=dct['name'], age=dct['age'])\n",
    "    else:\n",
    "        dct\n",
    "\n",
    "user = json.loads(output, object_hook=user_decoder)\n",
    "user.age, user.name, type(user)"
   ]
  }
 ],
 "metadata": {
  "kernelspec": {
   "display_name": "Python 3",
   "language": "python",
   "name": "python3"
  },
  "language_info": {
   "codemirror_mode": {
    "name": "ipython",
    "version": 3
   },
   "file_extension": ".py",
   "mimetype": "text/x-python",
   "name": "python",
   "nbconvert_exporter": "python",
   "pygments_lexer": "ipython3",
   "version": "3.10.3"
  },
  "orig_nbformat": 4
 },
 "nbformat": 4,
 "nbformat_minor": 2
}
