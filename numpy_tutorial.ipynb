{
 "cells": [
  {
   "cell_type": "code",
   "execution_count": 1,
   "metadata": {},
   "outputs": [],
   "source": [
    "import numpy as np"
   ]
  },
  {
   "cell_type": "markdown",
   "metadata": {},
   "source": [
    "\n",
    "### Array vs List\n"
   ]
  },
  {
   "cell_type": "code",
   "execution_count": null,
   "metadata": {},
   "outputs": [],
   "source": [
    "x = [[1, 2, 3], [4, 5, 6], [1, 10, 100]]\n",
    "a = np.array(x, dtype='float64')\n",
    "print(a)\n",
    "print(a.shape) # shape dtype ndim size itemsize\n",
    "print(a[1, 2])"
   ]
  },
  {
   "cell_type": "code",
   "execution_count": null,
   "metadata": {},
   "outputs": [],
   "source": [
    "y = 2*x\n",
    "b = a*2\n",
    "print(f'list: {y}')\n",
    "print(f'np array: \\n{b}')"
   ]
  },
  {
   "cell_type": "code",
   "execution_count": null,
   "metadata": {},
   "outputs": [],
   "source": [
    "# z = x*y\n",
    "c = a*b\n",
    "print(c)"
   ]
  },
  {
   "cell_type": "markdown",
   "metadata": {},
   "source": [
    "### Dot Product"
   ]
  },
  {
   "cell_type": "code",
   "execution_count": null,
   "metadata": {},
   "outputs": [],
   "source": [
    "x, y = np.full((1, 3), 5), np.full((1, 3), 3)\n",
    "dot_res = np.sum(x*y)\n",
    "print(f'first way: {np.sum(x*y)}')\n",
    "dot_res = x.dot(y.T).flatten()\n",
    "print(f'second way: {x.dot(y.T).flatten()}')\n",
    "print(f'new way: {x @ y.T}')"
   ]
  },
  {
   "cell_type": "markdown",
   "metadata": {},
   "source": [
    "### Vector product"
   ]
  },
  {
   "cell_type": "code",
   "execution_count": null,
   "metadata": {},
   "outputs": [],
   "source": [
    "x, y = np.full((2, 4), 8), np.full((4, 2), 2)\n",
    "print(np.matmul(x, y))"
   ]
  },
  {
   "cell_type": "code",
   "execution_count": null,
   "metadata": {},
   "outputs": [],
   "source": [
    "x = [[1, 2, 3], [4, 5, 6], [1, 10, 100]]\n",
    "a = np.array(x, dtype='float64')\n",
    "# determinant\n",
    "c = np.linalg.det(a)\n",
    "print(c)\n",
    "\n",
    "# inverse\n",
    "c = np.linalg.inv(a)\n",
    "print(c)\n",
    "\n",
    "# diag\n",
    "c = np.diag(a)\n",
    "print(c)\n",
    "\n",
    "# diag on a vector returns diagonal matrix (overloaded function)\n",
    "c = np.diag([1, 4, 8])\n",
    "print(c)"
   ]
  },
  {
   "cell_type": "markdown",
   "metadata": {},
   "source": [
    "### Speed Test array vs list"
   ]
  },
  {
   "cell_type": "code",
   "execution_count": null,
   "metadata": {},
   "outputs": [],
   "source": [
    "from timeit import default_timer as timer\n",
    "\n",
    "a = np.random.randn(1000)\n",
    "b = np.random.randn(1000)\n",
    "\n",
    "A = list(a)\n",
    "B = list(b)\n",
    "\n",
    "T = 1000\n",
    "\n",
    "def dot1():\n",
    "    dot = 0\n",
    "    for i in range(len(A)):\n",
    "        dot += A[i]*B[i]\n",
    "    return dot\n",
    "\n",
    "def dot2():\n",
    "    return np.dot(a,b)\n",
    "\n",
    "start = timer()\n",
    "for t in range(T):\n",
    "    dot1()\n",
    "end = timer()\n",
    "print(end-start)\n",
    "\n",
    "start = timer()\n",
    "for t in range(T):\n",
    "    dot2()\n",
    "end = timer()\n",
    "print(end-start)"
   ]
  },
  {
   "cell_type": "markdown",
   "metadata": {},
   "source": [
    "###  Indexing/Slicing/Boolean Indexing"
   ]
  },
  {
   "cell_type": "code",
   "execution_count": 8,
   "metadata": {},
   "outputs": [
    {
     "data": {
      "text/plain": [
       "[24, 12, 8, 6]"
      ]
     },
     "execution_count": 8,
     "metadata": {},
     "output_type": "execute_result"
    }
   ],
   "source": [
    "nums = [1, 2, 3, 4]\n",
    "output = np.ones(len(nums), dtype='int32')\n",
    "for id, n in enumerate(nums):\n",
    "    if id == 0:\n",
    "        output[1:] = n*output[1:]\n",
    "    elif id == len(nums)-1:\n",
    "        output[:-1] = n*output[:-1]\n",
    "    else:\n",
    "        output[:id] = n*output[:id]\n",
    "        output[id+1:] = n*output[id+1:]\n",
    "list(output)"
   ]
  },
  {
   "cell_type": "code",
   "execution_count": null,
   "metadata": {},
   "outputs": [],
   "source": [
    "print(a)\n",
    "# indexing\n",
    "print(a[1:, :-1])\n",
    "\n",
    "# boolean indexing\n",
    "print(a[:, 1] < 6)\n",
    "print(np.argwhere(a[:, 1] < 6).flatten())\n",
    "\n",
    "\n",
    "# fancy indexing\n",
    "print(a[[1, 2], [0, 1]])"
   ]
  },
  {
   "cell_type": "markdown",
   "metadata": {},
   "source": [
    "### Reshaping"
   ]
  },
  {
   "cell_type": "code",
   "execution_count": null,
   "metadata": {},
   "outputs": [],
   "source": [
    "# reshape\n",
    "a = np.arange(1, 65)\n",
    "print('original\\n', a)\n",
    "\n",
    "b = a.reshape((8, -1)) # error if shape cannot be used\n",
    "print(f'8 x {b.shape[1]}\\n', b)\n",
    "\n",
    "c = a.reshape((2, 32)) # 3 rows, 2 columns\n",
    "print('2 x 32\\n', c)\n",
    "\n",
    "# newaxis is used to create a new axis in the data\n",
    "# needed when model require the data to be shaped in a certain manner\n",
    "print(a.shape)\n",
    "d = a[np.newaxis, :]\n",
    "print(d)\n",
    "print(d.shape)\n",
    "\n",
    "e = a[:, np.newaxis]\n",
    "print(e)\n",
    "print(e.shape)"
   ]
  },
  {
   "cell_type": "code",
   "execution_count": 80,
   "metadata": {},
   "outputs": [
    {
     "data": {
      "text/plain": [
       "array([3, 4])"
      ]
     },
     "execution_count": 80,
     "metadata": {},
     "output_type": "execute_result"
    }
   ],
   "source": [
    "a[1, :]"
   ]
  },
  {
   "cell_type": "markdown",
   "metadata": {},
   "source": [
    "### Concatenation"
   ]
  },
  {
   "cell_type": "code",
   "execution_count": null,
   "metadata": {},
   "outputs": [],
   "source": [
    "# concatenation\n",
    "a = np.array([[1, 2], [3, 4]])\n",
    "b = np.array([[5, 6]])\n",
    "c = np.concatenate((a, b), axis=None) # axis=None 0 1\n",
    "print(c)\n",
    "\n",
    "# hstack: Stack arrays in sequence horizontally. shape is tuple\n",
    "c = np.hstack((a,b.T))\n",
    "print(c)\n",
    "\n",
    "# vstack: Stack arrays in sequence vertically. shape is tuple\n",
    "c = np.vstack((b,b))\n",
    "print(c)\n"
   ]
  },
  {
   "cell_type": "markdown",
   "metadata": {},
   "source": [
    "### Broadcasting"
   ]
  },
  {
   "cell_type": "code",
   "execution_count": null,
   "metadata": {},
   "outputs": [],
   "source": [
    "# broadcasting\n",
    "# Broadcasting is a powerful mechanism that allows numpy to work with arrays of \n",
    "# different shapes when performing arithmetic operations.\n",
    "x = np.array([[1,2,3], [4,5,6], [7,8,9], [10, 11, 12]])\n",
    "v = np.array([1, 0, -1])\n",
    "\n",
    "print(x + v)  # Add v to each row of x using broadcasting\n",
    "print(x * .1) "
   ]
  },
  {
   "cell_type": "markdown",
   "metadata": {},
   "source": [
    "### Statistical functions"
   ]
  },
  {
   "cell_type": "code",
   "execution_count": null,
   "metadata": {},
   "outputs": [],
   "source": [
    "features = np.array([25*np.ones((50,1)), 2016*np.ones((50,1))])\n",
    "features = features.flatten()\n",
    "features = features.reshape((2, -1)).T\n",
    "features += np.random.randn(50,2)\n",
    "features = np.array([(features[:,0]-np.mean(features[:,0]))/features[:,0].std(), \n",
    "                     (features[:,1]-np.mean(features[:,1]))/features[:,1].std()]).T\n",
    "features.astype(dtype='float64')\n"
   ]
  },
  {
   "cell_type": "code",
   "execution_count": null,
   "metadata": {},
   "outputs": [],
   "source": [
    "from matplotlib import pyplot as plt\n",
    "import numpy as np\n",
    "# linspace\n",
    "x = np.linspace(0, 9, 10)\n",
    "print(x)\n",
    "# Normally distributed random ndarray with values in [1, 3]\n",
    "y = 2*(np.array([np.random.randn() for _ in range(100)]))+2\n",
    "print(y.sum()) # min max sum mean std var \n",
    "rand_id = c = np.random.choice(100, size=10, replace=False)\n",
    "print(rand_id)\n",
    "plt.scatter(x, y[rand_id])"
   ]
  },
  {
   "cell_type": "markdown",
   "metadata": {},
   "source": [
    "### Linear Algebra"
   ]
  },
  {
   "cell_type": "code",
   "execution_count": 23,
   "metadata": {},
   "outputs": [
    {
     "data": {
      "text/plain": [
       "array([[-0.93413675,  0.35691531, -0.17672691],\n",
       "       [ 0.24546659,  0.64244755, -0.66640352],\n",
       "       [ 0.25910362,  0.67813908,  0.72434381]])"
      ]
     },
     "execution_count": 23,
     "metadata": {},
     "output_type": "execute_result"
    }
   ],
   "source": [
    "X = np.array([[1,2], [2.3,4.1], [1.9, 3.8]])\n",
    "cov = np.cov(X)\n",
    "vals, vects = np.linalg.eig(cov)\n",
    "vects\n"
   ]
  },
  {
   "cell_type": "code",
   "execution_count": null,
   "metadata": {},
   "outputs": [],
   "source": [
    "# eigenvalues\n",
    "a = np.array([[1,2], [3,4]])\n",
    "eigenvalues, eigenvectors = np.linalg.eig(a)\n",
    "\n",
    "# Note: use eigh if your matrix is symmetric (faster)\n",
    "print(eigenvalues)\n",
    "print(eigenvectors) # column vectors\n",
    "print(eigenvectors[:,0]) # column 0 corresponding to eigenvalue[0]\n",
    "\n",
    "# verify: e-vec * e-val = A * e-vec\n",
    "d = eigenvectors[:,0] * eigenvalues[0]\n",
    "e = a @ eigenvectors[:, 0]\n",
    "print(d, e)\n",
    "print(d == e) # numerical issues\n",
    "\n",
    "# correct way to compare matrix\n",
    "print(np.allclose(d,e))"
   ]
  },
  {
   "cell_type": "markdown",
   "metadata": {},
   "source": [
    "### Load data from file"
   ]
  },
  {
   "cell_type": "code",
   "execution_count": null,
   "metadata": {},
   "outputs": [],
   "source": [
    "# loading from csv\n",
    "# 1) load with np.loadtxt()\n",
    "# skiprows=1\n",
    "data = np.loadtxt('data.txt', delimiter=\",\", dtype=np.int32)\n",
    "print(data.shape, data.dtype)\n",
    "\n",
    "# 2) load with np.genfromtxt()\n",
    "# skip_header=0, missing_values=\"---\", filling_values=0.0\n",
    "data = np.genfromtxt('data.txt', delimiter=\",\", dtype=np.int32, skip_header=True,\n",
    "                     names=['first', 'second'])\n",
    "print(data)\n"
   ]
  },
  {
   "cell_type": "markdown",
   "metadata": {},
   "source": [
    "### NaN is a floating value != None & != other NaN values"
   ]
  },
  {
   "cell_type": "code",
   "execution_count": 5,
   "metadata": {},
   "outputs": [
    {
     "data": {
      "text/plain": [
       "True"
      ]
     },
     "execution_count": 5,
     "metadata": {},
     "output_type": "execute_result"
    }
   ],
   "source": [
    "np.nan == np.nan        # false\n",
    "np.nan == None          # false\n",
    "np.isnan(np.nan)        # true"
   ]
  }
 ],
 "metadata": {
  "kernelspec": {
   "display_name": "Python 3",
   "language": "python",
   "name": "python3"
  },
  "language_info": {
   "codemirror_mode": {
    "name": "ipython",
    "version": 3
   },
   "file_extension": ".py",
   "mimetype": "text/x-python",
   "name": "python",
   "nbconvert_exporter": "python",
   "pygments_lexer": "ipython3",
   "version": "3.10.3"
  },
  "orig_nbformat": 4
 },
 "nbformat": 4,
 "nbformat_minor": 2
}
