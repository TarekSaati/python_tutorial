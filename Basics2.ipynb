{
 "cells": [
  {
   "attachments": {},
   "cell_type": "markdown",
   "metadata": {},
   "source": [
    "# Lists"
   ]
  },
  {
   "cell_type": "code",
   "execution_count": null,
   "metadata": {},
   "outputs": [],
   "source": [
    "names = (\"ali\", 'ali', \"tarek\", 'nour', 'zenah')\n",
    "print(names.__contains__('ali'))\n",
    "print(names.index('ali'))\n"
   ]
  },
  {
   "cell_type": "code",
   "execution_count": null,
   "metadata": {},
   "outputs": [],
   "source": [
    "x=range(1, 11)\n",
    "names = [\"ali\", \"tarek\", 'nour', 'zenah']\n",
    "names2 = ['sara', 'karem']\n",
    "names.extend(names2)\n",
    "name = names.pop()\n",
    "name = names.pop()\n",
    "name = names.pop()\n",
    "print(name, names)\n"
   ]
  },
  {
   "cell_type": "code",
   "execution_count": null,
   "metadata": {},
   "outputs": [],
   "source": [
    "names = ['ali', 'ahmad', 'tarek', 'sara']\n",
    "sorted_version = sorted(names)\n",
    "names.sort()\n",
    "print(names)"
   ]
  },
  {
   "cell_type": "code",
   "execution_count": null,
   "metadata": {},
   "outputs": [],
   "source": [
    "names = ['ali', 'ahmad', 'sara']\n",
    "names.append(5)\n",
    "names.insert(0, 'noor')\n",
    "print(names)\n",
    "assert names.__contains__('tarek'), 'tarek not found'\n",
    "print(names)"
   ]
  },
  {
   "cell_type": "code",
   "execution_count": null,
   "metadata": {},
   "outputs": [],
   "source": [
    "jobs = ['developer', 'tester', 'editor', 'HR']\n",
    "print(jobs.remove('HR'))\n",
    "job = jobs.pop()\n",
    "print(job)"
   ]
  },
  {
   "cell_type": "code",
   "execution_count": null,
   "metadata": {},
   "outputs": [],
   "source": [
    "jobs = ['developer', 'tester', 'bug fixer',  'editor', 'HR']\n",
    "custom_jobs = [*jobs[:2], *jobs[-2:-1]]\n",
    "print(custom_jobs)\n",
    "custom_jobs = jobs[:2]\n",
    "custom_jobs.extend(jobs[-2:-1])\n",
    "print(custom_jobs)"
   ]
  },
  {
   "cell_type": "code",
   "execution_count": null,
   "metadata": {},
   "outputs": [],
   "source": [
    "jobs = ['developer', 'tester', 'editor', 'HR', 'developer', 'tester', 'editor', 'HR']\n",
    "# jobs.reverse()\n",
    "# print(jobs)\n",
    "print(jobs[1:6:2])"
   ]
  },
  {
   "cell_type": "code",
   "execution_count": null,
   "metadata": {},
   "outputs": [],
   "source": [
    "x = [1, 2, 3, 4, 5]\n",
    "for index, v in enumerate(x):\n",
    "    print(index, v)\n"
   ]
  },
  {
   "cell_type": "code",
   "execution_count": 31,
   "metadata": {},
   "outputs": [],
   "source": [
    "def bubble_sort(arr):\n",
    "    n = len(arr)\n",
    "    for i in range(n):\n",
    "        for j in range(0, n-i-1):\n",
    "            if arr[j] > arr[j+1]:\n",
    "                arr[j], arr[j+1] = arr[j+1], arr[j]\n",
    "    return arr"
   ]
  },
  {
   "cell_type": "code",
   "execution_count": null,
   "metadata": {},
   "outputs": [],
   "source": [
    "x = [[0], [1], [2], [3]]\n",
    "y = x.copy()\n",
    "print(x)"
   ]
  },
  {
   "attachments": {},
   "cell_type": "markdown",
   "metadata": {},
   "source": [
    "# Exercise 1:\n",
    "The following code will never sort the list. find the problem with base-offset idea"
   ]
  },
  {
   "cell_type": "code",
   "execution_count": null,
   "metadata": {},
   "outputs": [],
   "source": [
    "from random import randrange\n",
    "\n",
    "nums = [randrange(10) for _ in range(10)]\n",
    "print(nums)\n",
    "base, offset = nums[:-1], nums[1:]\n",
    "for _ in range(len(nums)):\n",
    "    for n, m in zip(base, offset):\n",
    "        if n > m:\n",
    "            i = base.index(n)\n",
    "            nums[i+1], nums[i] = nums[i], nums[i+1]\n",
    "        base, offset = nums[:-1], nums[1:]\n",
    "    # print(base, offset)\n",
    "print(nums)"
   ]
  },
  {
   "cell_type": "code",
   "execution_count": 39,
   "metadata": {},
   "outputs": [],
   "source": [
    "from copy import deepcopy\n",
    "s=['1', '2', '3']\n",
    "mylist = [s,  \"1\", \"2\", '3']\n",
    "newList = mylist.copy()\n",
    "deepcopylist = deepcopy(mylist)\n",
    "s.append('1')"
   ]
  },
  {
   "cell_type": "code",
   "execution_count": null,
   "metadata": {},
   "outputs": [],
   "source": [
    "from copy import deepcopy\n",
    "s=['1', '2', '3']\n",
    "mylist = [s,  \"1\", \"2\", '3']\n",
    "newList = mylist.copy()\n",
    "deepcopylist = deepcopy(mylist)\n",
    "s.append('5')\n",
    "print (newList)\n",
    "print(deepcopylist)\n",
    "# newList = sorted(mylist)\n",
    "# print(mylist[::-1])\n",
    "# print (newList)"
   ]
  },
  {
   "attachments": {},
   "cell_type": "markdown",
   "metadata": {},
   "source": [
    "# Tuples"
   ]
  },
  {
   "cell_type": "code",
   "execution_count": 28,
   "metadata": {},
   "outputs": [
    {
     "name": "stdout",
     "output_type": "stream",
     "text": [
      "True\n"
     ]
    }
   ],
   "source": [
    "addresses = ('Al-Hamra', 'Al-Shaalan', 'Al-Hamra', 'Al-Mazzeh', 'Qudsaya')\n",
    "addresses.count('Al-Hamra')\n",
    "addresses.index('Qudsaya')\n",
    "newAddress = (*addresses, 'Home')\n",
    "addresses.__eq__(newAddress)\n",
    "print(addresses.__contains__('Al-Hamra'))"
   ]
  },
  {
   "cell_type": "code",
   "execution_count": null,
   "metadata": {},
   "outputs": [],
   "source": [
    "import sys\n",
    "import timeit\n",
    "print(sys.getsizeof(addresses, \"bytes\"))\n",
    "print(sys.getsizeof(list(addresses), \"bytes\"))\n",
    "\n",
    "print(timeit.timeit(stmt=\"[1, 2, 3, 4, 5]\", number=1000000))\n",
    "print(timeit.timeit(stmt=\"(1, 2, 3, 4, 5)\", number=1000000))"
   ]
  },
  {
   "cell_type": "code",
   "execution_count": 33,
   "metadata": {},
   "outputs": [
    {
     "data": {
      "text/plain": [
       "True"
      ]
     },
     "execution_count": 33,
     "metadata": {},
     "output_type": "execute_result"
    }
   ],
   "source": [
    "isinstance('(1,2,3)', str)"
   ]
  },
  {
   "attachments": {},
   "cell_type": "markdown",
   "metadata": {},
   "source": [
    "# Dictionaries\n"
   ]
  },
  {
   "cell_type": "code",
   "execution_count": null,
   "metadata": {},
   "outputs": [],
   "source": [
    "myInfo = dict(name=\"tarek\", age=30, city=\"Damascus\", job='pythonist')\n",
    "{'k':'jghjk', 'j':'kjhjh'}\n",
    "for x, y in zip(myInfo.keys(), myInfo.values()):\n",
    "    print (x, y)\n"
   ]
  },
  {
   "cell_type": "code",
   "execution_count": null,
   "metadata": {},
   "outputs": [],
   "source": [
    "print(myInfo.get('name'))\n",
    "myInfo['address'] = 'Qudsaya'\n",
    "print(myInfo)"
   ]
  },
  {
   "cell_type": "code",
   "execution_count": null,
   "metadata": {},
   "outputs": [],
   "source": [
    "copyInfo = myInfo.copy()\n",
    "copyInfo.update({'job': 'ex pythonsit'})\n",
    "print(myInfo['job'], copyInfo['job'])"
   ]
  },
  {
   "cell_type": "code",
   "execution_count": null,
   "metadata": {},
   "outputs": [],
   "source": [
    "# Sets\n",
    "setA = {1,9}\n",
    "setB = {1,3,5,7,9}\n",
    "setA.symmetric_difference_update(setB)\n",
    "setA.add(1)\n",
    "setA.pop()\n",
    "setA.remove(7)\n",
    "print(setA)\n",
    "print (setA.issubset(setB))"
   ]
  },
  {
   "attachments": {},
   "cell_type": "markdown",
   "metadata": {},
   "source": [
    "# Strings\n"
   ]
  },
  {
   "cell_type": "code",
   "execution_count": null,
   "metadata": {},
   "outputs": [],
   "source": [
    "from timeit import default_timer as tim\n",
    "str1 = \"\"\" \n",
    "  \n",
    "    I'm a programmer\n",
    "\n",
    "\"\"\"\n",
    "str2 = \"   \" + str1 + \"my name is tarek\"\n",
    "# strings are IMMUTABLE ordered texts\n",
    "str2 = str2.strip()\n",
    "str2 = str2.upper()\n",
    "reverse_str = str2[::-1]\n",
    "print(str2)\n",
    "print('ends with TAREK? ' + str(str2.endswith('TAREK')))\n",
    "print('index of \"MY\" = ' + str(str2.find(\"MY\")))\n",
    "print('count of M\\'s = ' + str(str2.count('M')))\n",
    "print(str2.replace(\"TAREK\", \"T. SAATI\\n\"))\n",
    "\n"
   ]
  },
  {
   "cell_type": "code",
   "execution_count": null,
   "metadata": {},
   "outputs": [],
   "source": [
    "\n",
    "\n",
    "group = 'tarek,x,1000'\n",
    "tmpList = group.split(',')\n",
    "print(tmpList)\n",
    "# append text to every element is list == more efficient that for loop\n",
    "start = tim()\n",
    "print(\" \".join(tmpList))\n",
    "stop = tim()\n",
    "print(stop-start)\n",
    "path=\"/var/lib/docker\"\n",
    "print(f\"working dir : {path} {str1}\")\n",
    "print(\"working dir : {} {}\".format(path, path))\n",
    "print(f\"working dir : %s\" % path)\n"
   ]
  },
  {
   "cell_type": "code",
   "execution_count": null,
   "metadata": {},
   "outputs": [],
   "source": [
    "import os\n",
    "Path = os.getcwd()\n",
    "print(os.path.join(Path, 'person.json'))"
   ]
  },
  {
   "cell_type": "code",
   "execution_count": null,
   "metadata": {},
   "outputs": [],
   "source": [
    "# Collections\n",
    "from collections import Counter\n",
    "text = \"0000111222222233\"\n",
    "cnt = Counter(text)\n",
    "\n",
    "print(cnt.most_common(1)[0][0])     # most common item fetching "
   ]
  },
  {
   "cell_type": "code",
   "execution_count": null,
   "metadata": {},
   "outputs": [],
   "source": [
    "# Itertools\n",
    "from itertools import product, permutations, combinations, accumulate, groupby\n",
    "import operator\n",
    "s,i = ['a', 'b'], [2, 3, 4]\n",
    "\n",
    "print(list(product(s,i)))\n",
    "print(list(permutations(i, 2))) # with inverses\n",
    "print(list(combinations(i, 2))) # without inverses\n",
    "print(list(accumulate(i, func=operator.mul)))\n",
    "for key, val in groupby(i, key=lambda x: x<3):\n",
    "    print(key, list(val))\n"
   ]
  },
  {
   "cell_type": "code",
   "execution_count": 8,
   "metadata": {},
   "outputs": [
    {
     "name": "stdout",
     "output_type": "stream",
     "text": [
      "[0, 1, 1, 2, 3, 5, 8, 13, 21, 34]\n"
     ]
    }
   ],
   "source": [
    "def fibo(maxN: int):\n",
    "    s = [0, 1]\n",
    "    # stop cond\n",
    "    sum = 0\n",
    "    while sum < maxN:\n",
    "        sum += s[-2]\n",
    "        s.append(sum)\n",
    "    return \n",
    "from itertools import accumulate\n",
    "def accFibo(maxN: int):\n",
    "    s = [0, 1]\n",
    "    acc = [0, ]\n",
    "    # stop cond\n",
    "    while acc[-1] < maxN:\n",
    "        acc = list(accumulate(s[-2:]))\n",
    "        s.append(acc[-1])\n",
    "        \n",
    "    return s\n",
    "\n",
    "print(accFibo(25))\n",
    "    \n"
   ]
  },
  {
   "attachments": {},
   "cell_type": "markdown",
   "metadata": {},
   "source": [
    "# Exercise 2:\n",
    "Code a Fibonacci series using \"accumulate\" itertool"
   ]
  },
  {
   "cell_type": "code",
   "execution_count": null,
   "metadata": {},
   "outputs": [],
   "source": [
    "# Exceptions\n",
    "# AssertionError: assert(contition to be met), \"error message\"\n",
    "x = 5\n",
    "assert(x>=0), \"number must be positive\"\n",
    "if x < 0: \n",
    "    raise Exception('an error occured')\n",
    "\n",
    "\n",
    "class ValueTooHighError(Exception):\n",
    "    def __init__(self, val):\n",
    "        super().__init__()\n",
    "        self.value = val\n",
    "        \n",
    "\n",
    "\n",
    "# try, except, else, finally\n",
    "try:\n",
    "    a = 100 / .5\n",
    "    # if a > 100:\n",
    "    #     raise ValueTooHighError(a)\n",
    "    b = a + '5'\n",
    "except ValueTooHighError as e:\n",
    "    print(f\"number {e.value} must not exceed 100\")\n",
    "except ZeroDivisionError as e:\n",
    "    print(e)\n",
    "except TypeError as e:\n",
    "    print(e)\n",
    "except Exception:\n",
    "    pass\n",
    "else:\n",
    "    print(\"All is OK\")\n",
    "finally:\n",
    "    print(\"Cleaning up..\")"
   ]
  },
  {
   "cell_type": "code",
   "execution_count": null,
   "metadata": {},
   "outputs": [],
   "source": [
    "# Lambda functions\n",
    "# lambda [args]: [experssion]\n",
    "def func(*args, hidden=False, **kwargs) -> None:\n",
    "    for arg in args:\n",
    "        print(arg)\n",
    "    if hidden:\n",
    "        for kw,val in kwargs.items():\n",
    "            print(kw,val)\n",
    "\n",
    "p = [10, 15, 20]\n",
    "d = {'a': 0, 'b': 100}\n",
    "func(hidden=True, *p, **d)\n",
    "pionts = list(range(100))\n",
    "print(list(filter(lambda x: x%2==0, pionts)))"
   ]
  },
  {
   "cell_type": "code",
   "execution_count": null,
   "metadata": {},
   "outputs": [],
   "source": [
    "from functools import reduce\n",
    "nums = range(1, 5)\n",
    "print(list(map(lambda x: x*x, nums)))\n",
    "print([x*x for x in nums])\n",
    "print(list(filter(lambda x: x%2==0, nums)))\n",
    "print(reduce(lambda x,y: x*y, nums))"
   ]
  },
  {
   "cell_type": "code",
   "execution_count": null,
   "metadata": {},
   "outputs": [],
   "source": [
    "def recurr(n):\n",
    "    if n < 1:\n",
    "        return 0\n",
    "    print(n)\n",
    "    return recurr(n-1)\n",
    "print(recurr(10))"
   ]
  },
  {
   "attachments": {},
   "cell_type": "markdown",
   "metadata": {},
   "source": [
    "# Exercise 3:\n",
    "Apply script checking on input parameters using instanceof, Exceptions"
   ]
  }
 ],
 "metadata": {
  "kernelspec": {
   "display_name": "Python 3",
   "language": "python",
   "name": "python3"
  },
  "language_info": {
   "codemirror_mode": {
    "name": "ipython",
    "version": 3
   },
   "file_extension": ".py",
   "mimetype": "text/x-python",
   "name": "python",
   "nbconvert_exporter": "python",
   "pygments_lexer": "ipython3",
   "version": "3.10.3"
  },
  "orig_nbformat": 4
 },
 "nbformat": 4,
 "nbformat_minor": 2
}
