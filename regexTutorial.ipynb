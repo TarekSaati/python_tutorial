{
 "cells": [
  {
   "cell_type": "markdown",
   "metadata": {},
   "source": [
    "## RegEx"
   ]
  },
  {
   "cell_type": "code",
   "execution_count": null,
   "metadata": {},
   "outputs": [],
   "source": [
    "import re       # the standard package\n",
    "# import regex  # offers additional functionality and a more thorough Unicode support\n",
    "\n",
    "text = '''tarek is good, tarek is studying [whooo123] rearranging spree free preorders'''\n",
    "re.findall('[^a]', text) # [] indicated a set of all chars not a'\n",
    "re.findall('^abc', text, re.MULTILINE) # matches all line beginnings for abc\n",
    "re.match('c', 'abc')     # search the beginning \n",
    "re.search('c', 'abc')    # search the whole string\n",
    "re.findall('[+*.?]', text) # all special chars occurances\n",
    "re.findall('[t][a-u]', text) # ta's or tu's\n",
    "re.findall('[ta|tu]', text) # t + a or t + u\n",
    "re.findall('^[^a]', text) # begins with other than a\n",
    "re.findall('o{2,3}', text) # quantifiers: {min, max} or {#}\n",
    "re.findall('o*', text) # quantifiers: + or ? or * or .\n",
    "re.findall('[\\w]*,', text) # every word of any count that comes before ',' \n",
    "re.split('[\\[]', text)[1] # we put '\\' to indicate special forms or to allow special characters\n",
    "re.findall('(?P<group_name>[\\w])', text) # search and put in a group\n",
    "re.findall('(?:.* )', text) # group of any char followed by ' ' and group not returned \n",
    "re.findall('Isaac (?=Asimov)', 'Issac Asimov') # will match 'Isaac ' only if it’s followed by 'Asimov'\n",
    "re.search('abc(?=def)', 'abcdef').group(0)    # look-ahead\n",
    "re.search(r'(?<=-)\\w+', 'spam-egg').group(0)    # look-behind\n",
    "re.findall('\\$\\d+(\\d\\.)*', '$20.33')    # use groups '()' to apply operations to complex expressions\n",
    "\n",
    "# Arranging into groups iterator\n",
    "for item in re.finditer('\\[[\\w]*[\\d]*\\]', text):\n",
    "    print(item.group())\n",
    "\n",
    "re.findall('o{2,3}', text) # quantifiers: {min, max} or {#}\n"
   ]
  },
  {
   "cell_type": "code",
   "execution_count": 180,
   "metadata": {},
   "outputs": [
    {
     "name": "stdout",
     "output_type": "stream",
     "text": [
      "[('Angeles Bay', 'Sharks Kings')]\n"
     ]
    }
   ],
   "source": [
    "import re\n",
    "\n",
    "text = 'Angeles Bay Sharks'\n",
    "pattern = '(^(?:Los|St\\.|San|New)?(?:\\s)?(?:\\w+)(?: Bay)?)(?:\\s)((?:.+$))'\n",
    "matches = re.findall(pattern, text)\n",
    "\n",
    "print(matches)\n"
   ]
  },
  {
   "cell_type": "code",
   "execution_count": 12,
   "metadata": {},
   "outputs": [
    {
     "data": {
      "text/plain": [
       "[('tarek', 'saati')]"
      ]
     },
     "execution_count": 12,
     "metadata": {},
     "output_type": "execute_result"
    }
   ],
   "source": [
    "import re       # the standard package\n",
    "\n",
    "text = 'tarek saati'\n",
    "re.findall('(\\w*)(?:.* )(\\w*)', text) # equivalent to re.findall('(\\w*) (\\w*)', text)\n"
   ]
  },
  {
   "cell_type": "code",
   "execution_count": null,
   "metadata": {},
   "outputs": [],
   "source": [
    "import pandas as pd\n",
    "df = pd.DataFrame()\n"
   ]
  },
  {
   "cell_type": "markdown",
   "metadata": {},
   "source": [
    "### flags\n",
    "- a, L, u  --> ascii, Locale, unicode\n",
    "- m, s, x, i --> muli-line, match-all, vebose, ignore-case"
   ]
  },
  {
   "cell_type": "code",
   "execution_count": null,
   "metadata": {},
   "outputs": [
    {
     "name": "stdout",
     "output_type": "stream",
     "text": [
      "{'title': 'Overview', 'edit_link': '[edit]'}\n",
      "records\n",
      "records\n",
      "also\n",
      "References\n",
      "links\n"
     ]
    }
   ],
   "source": [
    "# Read a wikipidea page on FERPA\n",
    "with open('FERPA.txt', 'r') as f:\n",
    "    wiki=f.read()\n",
    "# search for titles\n",
    "for item in re.finditer('(?P<title>[\\w]*)(?P<edit_link>\\[edit\\])', wiki):\n",
    "    print(item.groupdict())\n",
    "# look-ahead [edit]\n",
    "for item in re.finditer('(?P<title>[\\w]+)(?=\\[edit\\n.*\\])', wiki):\n",
    "    print(item.groupdict()['title'])\n",
    "# python provides verbosity for RegEx (# for comments)\n",
    "pattern = '''\n",
    "(?P<title>.*)           # the page title group\n",
    "(?=\\[edit\\n.*\\])        # all comes behind [edit] group\n",
    "'''\n",
    "prog = re.compile(pattern, re.VERBOSE)\n",
    "for item in prog.finditer(wiki):\n",
    "    print(item.groupdict()['title']) "
   ]
  },
  {
   "cell_type": "code",
   "execution_count": null,
   "metadata": {},
   "outputs": [],
   "source": [
    "import random\n",
    "def repl(m):\n",
    "    inner_word = list(m.group(2))\n",
    "    random.shuffle(inner_word)\n",
    "    return m.group(1) + \"\".join(inner_word) + m.group(3)\n",
    "text = \"Professor Abdolmalek, please report your absences promptly.\"\n",
    "# \\w --> [a-zA-Z0-9_]\n",
    "# sub --> replace pattern occurences in 'text' by return from 'repl()'  \n",
    "re.sub(r\"(\\w)(\\w+)(\\w)\", repl, text)\n",
    "'Poefsrosr Aealmlobdk, pslaee reorpt your abnseces plmrptoy.'"
   ]
  },
  {
   "cell_type": "code",
   "execution_count": null,
   "metadata": {},
   "outputs": [
    {
     "name": "stdout",
     "output_type": "stream",
     "text": [
      "07-16: carefully\n",
      "40-47: quickly\n"
     ]
    }
   ],
   "source": [
    "text = \"He was carefully disguised but captured quickly by police.\"\n",
    "# find adverbs & their positions\n",
    "for m in re.finditer(r\"\\w+ly\\b\", text):\n",
    "    print('%02d-%02d: %s' % (m.start(), m.end(), m.group(0)))"
   ]
  },
  {
   "cell_type": "code",
   "execution_count": null,
   "metadata": {},
   "outputs": [],
   "source": [
    "text = 'doi:10.1038/nphys1170'\n",
    "re.findall('doi\\:(\\d+\\.)+\\d+\\/\\w+', text)"
   ]
  },
  {
   "cell_type": "code",
   "execution_count": null,
   "metadata": {},
   "outputs": [],
   "source": [
    "import re\n",
    "loglist = []\n",
    "\n",
    "with open(\"logdata.txt\", \"r\") as file:\n",
    "    logdata = file.read()\n",
    "    for line in logdata.splitlines():   \n",
    "        logdict = {}    \n",
    "        logdict['host'] = re.findall('((?:\\d{1,3}\\.){3}\\d{1,3})', line)[0]\n",
    "        username = re.findall('(?<=-\\s)\\w+', line)\n",
    "        logdict['user_name'] = username[0] if username else '-'\n",
    "        logdict['time'] = re.findall('(?<=\\[).+(?=\\])', line)[0]\n",
    "        logdict['request'] = re.findall('(?<=\\\").+(?=\\\")', line)[0]\n",
    "        loglist.append(logdict)\n",
    "        \n",
    "    print(loglist[0])\n",
    "\n"
   ]
  },
  {
   "cell_type": "code",
   "execution_count": 2,
   "metadata": {},
   "outputs": [
    {
     "name": "stdout",
     "output_type": "stream",
     "text": [
      "['C', 'F', 'B']\n"
     ]
    }
   ],
   "source": [
    "import re\n",
    "def result():\n",
    "    s = 'ACAABAACAAABACDBADDDFSDDDFFSSSASDAFAAACBAAAFASD'\n",
    "\n",
    "    result = []\n",
    "    # compete the pattern below\n",
    "    pattern = '(\\w(?=AAA))'\n",
    "    for item in re.finditer(pattern, s):\n",
    "      # identify the group number below.\n",
    "      result.append(item.group())\n",
    "      \n",
    "    return result\n",
    "\n",
    "print(result())"
   ]
  },
  {
   "cell_type": "code",
   "execution_count": null,
   "metadata": {},
   "outputs": [],
   "source": []
  }
 ],
 "metadata": {
  "kernelspec": {
   "display_name": "Python 3",
   "language": "python",
   "name": "python3"
  },
  "language_info": {
   "codemirror_mode": {
    "name": "ipython",
    "version": 3
   },
   "file_extension": ".py",
   "mimetype": "text/x-python",
   "name": "python",
   "nbconvert_exporter": "python",
   "pygments_lexer": "ipython3",
   "version": "3.10.3"
  },
  "orig_nbformat": 4
 },
 "nbformat": 4,
 "nbformat_minor": 2
}
