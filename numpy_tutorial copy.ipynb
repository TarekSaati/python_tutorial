{
 "cells": [
  {
   "cell_type": "code",
   "execution_count": 1,
   "metadata": {},
   "outputs": [],
   "source": [
    "import numpy as np"
   ]
  },
  {
   "cell_type": "markdown",
   "metadata": {},
   "source": [
    "\n",
    "### Array vs List\n"
   ]
  },
  {
   "cell_type": "code",
   "execution_count": 49,
   "metadata": {},
   "outputs": [
    {
     "name": "stdout",
     "output_type": "stream",
     "text": [
      "1\n"
     ]
    }
   ],
   "source": [
    "x = list(range(10))\n",
    "xarray = np.array(x, dtype='int64')\n",
    "print(xarray.ndim)"
   ]
  },
  {
   "cell_type": "code",
   "execution_count": 46,
   "metadata": {},
   "outputs": [
    {
     "name": "stdout",
     "output_type": "stream",
     "text": [
      "[[  1   4   9]\n",
      " [100 400 900]\n",
      " [  0   0   0]]\n"
     ]
    }
   ],
   "source": [
    "mat = np.array([[1, 2, 3],[10 ,20 ,30],[.1, .2, .3]])\n",
    "vect = np.full((1, 5), 5)\n",
    "res = mat*mat\n",
    "print(res.astype('int64'))"
   ]
  },
  {
   "cell_type": "code",
   "execution_count": 58,
   "metadata": {},
   "outputs": [
    {
     "name": "stdout",
     "output_type": "stream",
     "text": [
      "125\n",
      "[[1. 1. 1. 1. 1.]]\n"
     ]
    }
   ],
   "source": [
    "dotp = np.sum(vect*vect)\n",
    "print(dotp)\n",
    "print(vect/5)"
   ]
  },
  {
   "cell_type": "markdown",
   "metadata": {},
   "source": [
    "### Dot Product"
   ]
  },
  {
   "cell_type": "code",
   "execution_count": null,
   "metadata": {},
   "outputs": [],
   "source": [
    "x, y = np.full((1, 3), 5), np.full((1, 3), 3)\n",
    "dot_res = np.sum(x*y)\n",
    "print(f'first way: {np.sum(x*y)}')\n",
    "dot_res = x.dot(y.T).flatten()\n",
    "print(f'second way: {x.dot(y.T).flatten()}')\n",
    "print(f'new way: {x @ y.T}')"
   ]
  },
  {
   "cell_type": "markdown",
   "metadata": {},
   "source": [
    "### Vector product"
   ]
  },
  {
   "cell_type": "code",
   "execution_count": null,
   "metadata": {},
   "outputs": [],
   "source": [
    "x, y = np.full((2, 4), 8), np.full((4, 3), 2)\n",
    "print(x, '\\n', y, '\\n')\n",
    "print(np.matmul(x, y))"
   ]
  },
  {
   "cell_type": "code",
   "execution_count": 61,
   "metadata": {},
   "outputs": [
    {
     "name": "stdout",
     "output_type": "stream",
     "text": [
      "[[  1.   2.   3.]\n",
      " [  4.   5.   6.]\n",
      " [  1.  10. 100.]]\n",
      "-243.00000000000017\n",
      "[[-1.81069959  0.69958848  0.01234568]\n",
      " [ 1.62139918 -0.39917695 -0.02469136]\n",
      " [-0.14403292  0.03292181  0.01234568]]\n",
      "[  1.   5. 100.]\n",
      "[[1 0 0]\n",
      " [0 4 0]\n",
      " [0 0 8]]\n"
     ]
    }
   ],
   "source": [
    "x = [[1, 2, 3], [4, 5, 6], [1, 10, 100]]\n",
    "a = np.array(x, dtype='float64')\n",
    "print(a)\n",
    "# determinant\n",
    "c = np.linalg.det(a)\n",
    "print(c)\n",
    "\n",
    "# inverse\n",
    "c = np.linalg.inv(a)\n",
    "print(c)\n",
    "\n",
    "# diag\n",
    "c = np.diag(a)\n",
    "print(c)\n",
    "\n",
    "# diag on a vector returns diagonal matrix (overloaded function)\n",
    "c = np.diag([1, 4, 8])\n",
    "print(c)"
   ]
  },
  {
   "cell_type": "markdown",
   "metadata": {},
   "source": [
    "### Speed Test array vs list"
   ]
  },
  {
   "cell_type": "code",
   "execution_count": null,
   "metadata": {},
   "outputs": [],
   "source": [
    "from timeit import default_timer as timer\n",
    "\n",
    "a = np.random.randn(1000)\n",
    "b = np.random.randn(1000)\n",
    "\n",
    "A = list(a)\n",
    "B = list(b)\n",
    "\n",
    "T = 1000\n",
    "\n",
    "def dot1():\n",
    "    dot = 0\n",
    "    for i in range(len(A)):\n",
    "        dot += A[i]*B[i]\n",
    "    return dot\n",
    "\n",
    "def dot2():\n",
    "    return np.dot(a,b)\n",
    "\n",
    "start = timer()\n",
    "for t in range(T):\n",
    "    dot1()\n",
    "end = timer()\n",
    "print(end-start)\n",
    "\n",
    "start = timer()\n",
    "for t in range(T):\n",
    "    dot2()\n",
    "end = timer()\n",
    "print(end-start)"
   ]
  },
  {
   "cell_type": "markdown",
   "metadata": {},
   "source": [
    "###  Indexing/Slicing/Boolean Indexing"
   ]
  },
  {
   "cell_type": "code",
   "execution_count": 113,
   "metadata": {},
   "outputs": [
    {
     "name": "stdout",
     "output_type": "stream",
     "text": [
      "[   1    3    4 ... 1993 1997 1999]\n"
     ]
    }
   ],
   "source": [
    "# print(a)\n",
    "# # indexing\n",
    "# print(a[1:, :-1])\n",
    "\n",
    "# boolean indexing\n",
    "# print(a[a[: , 1] < 6])\n",
    "X = np.random.choice(10000, size=2000, replace=False)\n",
    "# print(X)\n",
    "print(np.argwhere(X < 5000).flatten())\n",
    "\n",
    "\n",
    "# # fancy indexing\n",
    "# print(a[[1, 2], [0, 1]])"
   ]
  },
  {
   "cell_type": "markdown",
   "metadata": {},
   "source": [
    "### Reshaping"
   ]
  },
  {
   "cell_type": "code",
   "execution_count": 125,
   "metadata": {},
   "outputs": [
    {
     "name": "stdout",
     "output_type": "stream",
     "text": [
      "original\n",
      " [ 1  2  3  4  5  6  7  8  9 10 11 12 13 14 15 16 17 18 19 20 21 22 23 24\n",
      " 25 26 27 28 29 30 31 32 33 34 35 36 37 38 39 40 41 42 43 44 45 46 47 48\n",
      " 49 50 51 52 53 54 55 56 57 58 59 60 61 62 63 64]\n",
      "(64,)\n",
      "[[ 1]\n",
      " [ 2]\n",
      " [ 3]\n",
      " [ 4]\n",
      " [ 5]\n",
      " [ 6]\n",
      " [ 7]\n",
      " [ 8]\n",
      " [ 9]\n",
      " [10]\n",
      " [11]\n",
      " [12]\n",
      " [13]\n",
      " [14]\n",
      " [15]\n",
      " [16]\n",
      " [17]\n",
      " [18]\n",
      " [19]\n",
      " [20]\n",
      " [21]\n",
      " [22]\n",
      " [23]\n",
      " [24]\n",
      " [25]\n",
      " [26]\n",
      " [27]\n",
      " [28]\n",
      " [29]\n",
      " [30]\n",
      " [31]\n",
      " [32]\n",
      " [33]\n",
      " [34]\n",
      " [35]\n",
      " [36]\n",
      " [37]\n",
      " [38]\n",
      " [39]\n",
      " [40]\n",
      " [41]\n",
      " [42]\n",
      " [43]\n",
      " [44]\n",
      " [45]\n",
      " [46]\n",
      " [47]\n",
      " [48]\n",
      " [49]\n",
      " [50]\n",
      " [51]\n",
      " [52]\n",
      " [53]\n",
      " [54]\n",
      " [55]\n",
      " [56]\n",
      " [57]\n",
      " [58]\n",
      " [59]\n",
      " [60]\n",
      " [61]\n",
      " [62]\n",
      " [63]\n",
      " [64]]\n",
      "(64, 1)\n",
      "[[ 1]\n",
      " [ 2]\n",
      " [ 3]\n",
      " [ 4]\n",
      " [ 5]\n",
      " [ 6]\n",
      " [ 7]\n",
      " [ 8]\n",
      " [ 9]\n",
      " [10]\n",
      " [11]\n",
      " [12]\n",
      " [13]\n",
      " [14]\n",
      " [15]\n",
      " [16]\n",
      " [17]\n",
      " [18]\n",
      " [19]\n",
      " [20]\n",
      " [21]\n",
      " [22]\n",
      " [23]\n",
      " [24]\n",
      " [25]\n",
      " [26]\n",
      " [27]\n",
      " [28]\n",
      " [29]\n",
      " [30]\n",
      " [31]\n",
      " [32]\n",
      " [33]\n",
      " [34]\n",
      " [35]\n",
      " [36]\n",
      " [37]\n",
      " [38]\n",
      " [39]\n",
      " [40]\n",
      " [41]\n",
      " [42]\n",
      " [43]\n",
      " [44]\n",
      " [45]\n",
      " [46]\n",
      " [47]\n",
      " [48]\n",
      " [49]\n",
      " [50]\n",
      " [51]\n",
      " [52]\n",
      " [53]\n",
      " [54]\n",
      " [55]\n",
      " [56]\n",
      " [57]\n",
      " [58]\n",
      " [59]\n",
      " [60]\n",
      " [61]\n",
      " [62]\n",
      " [63]\n",
      " [64]]\n",
      "(64, 1)\n"
     ]
    }
   ],
   "source": [
    "# reshape\n",
    "a = np.arange(1, 65)\n",
    "print('original\\n', a)\n",
    "\n",
    "# b = a.reshape((8, 8)) # error if shape cannot be used\n",
    "# print('8 x 8\\n', b)\n",
    "\n",
    "# c = a.reshape((2, 32)) # 3 rows, 2 columns\n",
    "# print('2 x 32\\n', c)\n",
    "\n",
    "# newaxis is used to create a new axis in the data\n",
    "# needed when model require the data to be shaped in a certain manner\n",
    "print(a.shape)\n",
    "d = a[:, np.newaxis]\n",
    "print(d)\n",
    "print(d.shape)\n",
    "\n",
    "e = a[:, np.newaxis]\n",
    "print(e)\n",
    "print(e.shape)"
   ]
  },
  {
   "cell_type": "code",
   "execution_count": 80,
   "metadata": {},
   "outputs": [
    {
     "data": {
      "text/plain": [
       "array([3, 4])"
      ]
     },
     "execution_count": 80,
     "metadata": {},
     "output_type": "execute_result"
    }
   ],
   "source": [
    "a[1, :]"
   ]
  },
  {
   "cell_type": "markdown",
   "metadata": {},
   "source": [
    "### Concatenation"
   ]
  },
  {
   "cell_type": "code",
   "execution_count": 120,
   "metadata": {},
   "outputs": [
    {
     "name": "stdout",
     "output_type": "stream",
     "text": [
      "a \n",
      " [[1 2]\n",
      " [3 4]]\n",
      "b \n",
      " [[5 6]]\n"
     ]
    }
   ],
   "source": [
    "a = np.array([[1, 2], [3, 4]])\n",
    "b = np.array([[5, 6]])\n",
    "print('a \\n', a)\n",
    "print('b \\n', b)"
   ]
  },
  {
   "cell_type": "code",
   "execution_count": 128,
   "metadata": {},
   "outputs": [
    {
     "name": "stdout",
     "output_type": "stream",
     "text": [
      "[[1 2 5]\n",
      " [3 4 6]]\n"
     ]
    }
   ],
   "source": [
    "# concatenation\n",
    "a = np.array([[1, 2], [3, 4]])\n",
    "b = np.array([[5, 6]])\n",
    "c = np.concatenate((a, b.T), axis=1) # axis=None 0 1\n",
    "print(c)\n",
    "\n",
    "# # hstack: Stack arrays in sequence horizontally. shape is tuple\n",
    "# c = np.hstack((a,b.T))\n",
    "# print(c)\n",
    "\n",
    "# vstack: Stack arrays in sequence vertically. shape is tuple\n",
    "# c = np.vstack((b,b))\n",
    "# print(c)\n"
   ]
  },
  {
   "cell_type": "markdown",
   "metadata": {},
   "source": [
    "### Broadcasting"
   ]
  },
  {
   "cell_type": "code",
   "execution_count": null,
   "metadata": {},
   "outputs": [],
   "source": [
    "# broadcasting\n",
    "# Broadcasting is a powerful mechanism that allows numpy to work with arrays of \n",
    "# different shapes when performing arithmetic operations.\n",
    "x = np.array([[1,2,3], [4,5,6], [7,8,9], [10, 11, 12]])\n",
    "v = np.array([1, 0, -1])\n",
    "\n",
    "print(x + v)  # Add v to each row of x using broadcasting\n",
    "print(x * .1) "
   ]
  },
  {
   "cell_type": "markdown",
   "metadata": {},
   "source": [
    "### Statistical functions"
   ]
  },
  {
   "cell_type": "code",
   "execution_count": null,
   "metadata": {},
   "outputs": [],
   "source": [
    "features = np.array([25*np.ones((50,1)), 2016*np.ones((50,1))])\n",
    "features = features.flatten()\n",
    "features = features.reshape((2, -1)).T\n",
    "features += np.random.randn(50,2)\n",
    "features = np.array([(features[:,0]-np.mean(features[:,0]))/features[:,0].std(), \n",
    "                     (features[:,1]-np.mean(features[:,1]))/features[:,1].std()]).T\n",
    "features.astype(dtype='float64')\n"
   ]
  },
  {
   "cell_type": "code",
   "execution_count": null,
   "metadata": {},
   "outputs": [],
   "source": [
    "from matplotlib import pyplot as plt\n",
    "import numpy as np\n",
    "# linspace\n",
    "x = np.linspace(0, 9, 10)\n",
    "print(x)\n",
    "# Normally distributed random ndarray with values in [1, 3]\n",
    "y = 2*(np.array([np.random.randn() for _ in range(100)]))+2\n",
    "print(y.sum()) # min max sum mean std var \n",
    "rand_id = c = np.random.choice(100, size=10, replace=False)\n",
    "print(rand_id)\n",
    "plt.scatter(x, y[rand_id])"
   ]
  },
  {
   "cell_type": "markdown",
   "metadata": {},
   "source": [
    "### Load data from file"
   ]
  },
  {
   "cell_type": "code",
   "execution_count": null,
   "metadata": {},
   "outputs": [],
   "source": [
    "# loading from csv\n",
    "# 1) load with np.loadtxt()\n",
    "# skiprows=1\n",
    "data = np.loadtxt('data.txt', delimiter=\",\", dtype=np.int32)\n",
    "print(data.shape, data.dtype)\n",
    "\n",
    "# 2) load with np.genfromtxt()\n",
    "# skip_header=0, missing_values=\"---\", filling_values=0.0\n",
    "data = np.genfromtxt('data.txt', delimiter=\",\", dtype=np.int32)\n",
    "print(data)"
   ]
  },
  {
   "cell_type": "markdown",
   "metadata": {},
   "source": [
    "### scikit-learn"
   ]
  },
  {
   "cell_type": "code",
   "execution_count": null,
   "metadata": {},
   "outputs": [],
   "source": [
    "from sklearn import datasets\n",
    "\n",
    "iris = datasets.load_iris()\n",
    "X, y = iris.data, iris.target\n",
    "X.shape\n"
   ]
  }
 ],
 "metadata": {
  "kernelspec": {
   "display_name": "Python 3",
   "language": "python",
   "name": "python3"
  },
  "language_info": {
   "codemirror_mode": {
    "name": "ipython",
    "version": 3
   },
   "file_extension": ".py",
   "mimetype": "text/x-python",
   "name": "python",
   "nbconvert_exporter": "python",
   "pygments_lexer": "ipython3",
   "version": "3.10.3"
  },
  "orig_nbformat": 4
 },
 "nbformat": 4,
 "nbformat_minor": 2
}
