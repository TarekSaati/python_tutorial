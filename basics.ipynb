{
 "cells": [
  {
   "cell_type": "code",
   "execution_count": 3,
   "metadata": {},
   "outputs": [
    {
     "data": {
      "text/plain": [
       "[['ali', 'samer', 'yara'], ['codeyrocky', 'e-puck']]"
      ]
     },
     "execution_count": 3,
     "metadata": {},
     "output_type": "execute_result"
    }
   ],
   "source": [
    "\"\"\"club description\"\"\"\n",
    "students = ['ali', 'samer', 'yara']\n",
    "robots = ['codey-rocky', 'e-puck']\n",
    "GVC = [students, robots]\n",
    "GVC"
   ]
  },
  {
   "cell_type": "code",
   "execution_count": 4,
   "metadata": {},
   "outputs": [
    {
     "data": {
      "text/plain": [
       "[['ali', 'samer', 'yara', 'noor'], ['codeyrocky', 'pioneer']]"
      ]
     },
     "execution_count": 4,
     "metadata": {},
     "output_type": "execute_result"
    }
   ],
   "source": [
    "\"\"\"add / remove a student / robot\"\"\"\n",
    "students.append('noor')\n",
    "robots.append('pioneer')\n",
    "robots.remove('e-puck')\n",
    "GVC"
   ]
  },
  {
   "cell_type": "code",
   "execution_count": null,
   "metadata": {},
   "outputs": [],
   "source": [
    "n_students = 3\n",
    "names= ['ali', 'samer', 'yara']\n",
    "ages= [15, 14, 19]\n",
    "levels= ['senior', 'junior', 'junior']\n",
    "robotsInUse= ['pioneer', 'pioneer', 'kodey-rocky']\n",
    "students = []\n",
    "# using iteration over list\n",
    "for i in range(n_students):\n",
    "    students.append([names[i], ages[i], levels[i], robotsInUse[i]])\n",
    "# or using generator\n",
    "students = ([n,a,l,r] for n,a,l,r in zip(names, ages, levels, robotsInUse))\n",
    "for student in students:\n",
    "    print(student)\n"
   ]
  },
  {
   "cell_type": "code",
   "execution_count": null,
   "metadata": {},
   "outputs": [],
   "source": [
    "# A robot object has different possible actions \n",
    "def moveForward():\n",
    "    pass\n",
    "def turnRight():\n",
    "    pass\n",
    "def turnLeft():\n",
    "    pass\n",
    "\n",
    "# A robot surly has properties\n",
    "types= ['codeyrocky', 'pioneer']\n",
    "sizes= [20, 60]\n",
    "# we need a sensor name & value => we need a dictionary\n",
    "sensorReadings= {'distance': 1.0, 'color': '555555', 'humidity': 0.5}\n",
    "# list of fuctions is NOT a good practice! \n",
    "# Robots does not apply actions the same way => each robot MUST \n",
    "# have its unique methods => we need OOP (classes)\n",
    "actions= [moveForward(), turnRight(), turnLeft(),\n",
    "        #   getDist(), getColor(), getHumid()\n",
    "          ]\n"
   ]
  },
  {
   "cell_type": "code",
   "execution_count": null,
   "metadata": {},
   "outputs": [],
   "source": [
    "# To plan a sequence of actions we can apply Generators\n",
    "def doPatrols(total_patrols):\n",
    "    patrols = 0\n",
    "    while patrols<total_patrols:\n",
    "        # reset the actions generator for a new patrol\n",
    "        actions = (action for action in ['moving forward', 'turning right'] * 4)\n",
    "        turns = 0\n",
    "        # generating actions \n",
    "        while turns < 8:\n",
    "            turns+=1\n",
    "            yield next(actions)\n",
    "        patrols+=1\n",
    "\n",
    "work = doPatrols(2)\n",
    "# we use 'enumerate' to get the index for each generation\n",
    "for index, patrol in enumerate(work):\n",
    "    print(index, patrol)\n",
    "# or we can call 'next' to trigger a generation of the next action\n",
    "# multi assignement is a good practice!\n",
    "ind, work = 0, doPatrols(2)\n",
    "while ind < 10:\n",
    "    ind+=1\n",
    "    print(ind, next(work))\n",
    "# dispose other actions by closing the generator\n",
    "work.close()"
   ]
  }
 ],
 "metadata": {
  "kernelspec": {
   "display_name": "Python 3",
   "language": "python",
   "name": "python3"
  },
  "language_info": {
   "codemirror_mode": {
    "name": "ipython",
    "version": 3
   },
   "file_extension": ".py",
   "mimetype": "text/x-python",
   "name": "python",
   "nbconvert_exporter": "python",
   "pygments_lexer": "ipython3",
   "version": "3.10.3"
  },
  "orig_nbformat": 4
 },
 "nbformat": 4,
 "nbformat_minor": 2
}
