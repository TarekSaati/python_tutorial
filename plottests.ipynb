{
 "cells": [
  {
   "cell_type": "code",
   "execution_count": 3,
   "metadata": {},
   "outputs": [],
   "source": [
    "%matplotlib inline\n",
    "from matplotlib import pyplot as plt\n",
    "import numpy as np"
   ]
  },
  {
   "cell_type": "code",
   "execution_count": null,
   "metadata": {},
   "outputs": [],
   "source": [
    "t = np.linspace(25, 36, 20)\n",
    "d = t**2\n",
    "y = d * np.sin(t)\n",
    "plt.figure()\n",
    "plt.plot(t, d, color='#FFEE01', linewidth=4, label='square')\n",
    "# plt.plot(t, y, color='green', marker='o', label='square-sin')\n",
    "plt.scatter(t, y, label='tert')\n",
    "plt.legend()\n",
    "plt.xlabel('time')\n",
    "plt.show()\n",
    "# plt.tight_layout()\n",
    "\n",
    "# plt.savefig('sine.png')\n",
    "\n"
   ]
  },
  {
   "cell_type": "code",
   "execution_count": null,
   "metadata": {},
   "outputs": [],
   "source": [
    "import math\n",
    "\n",
    "import numpy as np\n",
    "t = np.linspace(25, 36, 25)\n",
    "x = t**2\n",
    "s = t**2 * np.sin(t)\n",
    "\n",
    "plt.xlabel('time')\n",
    "plt.ylabel('square')\n",
    "# plt.plot(t, x, 'b--', label='square')\n",
    "plt.plot(t, x, linestyle='--', color='#c855F4', label='square')\n",
    "plt.plot(t, s, 'r', marker='o', linewidth=3, label='signal')\n",
    "plt.tight_layout()\n",
    "plt.legend()\n",
    "plt.savefig('sine.png')"
   ]
  },
  {
   "cell_type": "code",
   "execution_count": null,
   "metadata": {},
   "outputs": [],
   "source": [
    "plt.style.available"
   ]
  },
  {
   "cell_type": "code",
   "execution_count": null,
   "metadata": {},
   "outputs": [],
   "source": [
    "plt.style.use('seaborn-v0_8')\n",
    "\n",
    "plt.xlabel('time')\n",
    "plt.ylabel('square')\n",
    "plt.plot(t, x, t, s)\n",
    "plt.tight_layout()\n",
    "plt.legend()"
   ]
  },
  {
   "cell_type": "code",
   "execution_count": null,
   "metadata": {},
   "outputs": [],
   "source": [
    "# vertical bar charts\n",
    "import numpy as np\n",
    "\n",
    "likes = np.array([2000, 2333, 6522, 8502, 9905, 11240, 16250, 18588, 20012, 22512])\n",
    "comments = np.array(([1000,  1425,  4710,  7085, 9354, 11864, 18958, 23751,  27794, 33768]))\n",
    "shares = np.linspace(1000, 5000, 10)\n",
    "categs = np.linspace(1,10, 10)\n",
    "width = .2\n",
    "plt.bar(categs-width, comments, width=width, label='comments')\n",
    "plt.bar(categs, likes, width=width, label='likes')\n",
    "plt.bar(categs+width, shares, width=width, label='shares')\n",
    "plt.xticks(categs)\n",
    "# plt.yscale('log')\n",
    "plt.legend()\n"
   ]
  },
  {
   "cell_type": "code",
   "execution_count": null,
   "metadata": {},
   "outputs": [],
   "source": [
    "# horizontal bar & Pie charts\n",
    "langs = ['Javascript', 'Python', 'HTML', 'CPP']\n",
    "pops = [50000, 35000, 45000, 25000]\n",
    "pops.sort(reverse=True)\n",
    "plt.figure()\n",
    "plt.barh(langs, pops)\n",
    "plt.figure()\n",
    "plt.pie(pops, labels=langs, explode=[0, .1, 0, 0], autopct='%1.1f%%', shadow=True, startangle=90)\n"
   ]
  },
  {
   "cell_type": "code",
   "execution_count": null,
   "metadata": {},
   "outputs": [],
   "source": [
    "# stackplot to view the contribution of each element in a vaule\n",
    "minutes = list(range(1, 10))\n",
    "agent1 = [9, 7, 7, 5, 3, 2, 1, 1, 5]\n",
    "agent2 = [1, 2, 2, 4, 5, 5, 6, 5, 0]\n",
    "agent3 = [0, 1, 1, 1, 2, 3, 3, 2, 5]\n",
    "labels = ['agent1', 'agent2', 'agent3']\n",
    "plt.stackplot(minutes, agent1, agent2, agent3, labels=labels)\n",
    "plt.legend(loc=(.1, .1))"
   ]
  },
  {
   "cell_type": "code",
   "execution_count": null,
   "metadata": {},
   "outputs": [],
   "source": [
    "# Area filling on line plots\n",
    "minutes = list(range(1, 10))\n",
    "agent1 = [9, 7, 7, 5, 3, 2, 1, 1, 2]\n",
    "agent2 = [1, 2, 2, 4, 5, 5, 6, 7, 7]\n",
    "agent3 = [0, 1, 1, 1, 2, 3, 3, 2, 1]\n",
    "labels = ['agent1', 'agent2', 'agent3']\n",
    "plt.plot(minutes, agent1)\n",
    "plt.fill_between(minutes, agent1, 5, where=(np.array(agent1) <= 5), color='red', alpha=.25)\n",
    "plt.fill_between(minutes, agent1, 5, where=(np.array(agent1) >= 5), color='green', alpha=.25)"
   ]
  },
  {
   "cell_type": "code",
   "execution_count": null,
   "metadata": {},
   "outputs": [],
   "source": [
    "import numpy as np\n",
    "\n",
    "data = np.random.choice(1000000, size=1000)\n",
    "bins = [10, 100, 1000, 10000, 100000, 1000000]\n",
    "plt.scatter(np.linspace(1, 1000, 1000), data)\n",
    "# plt.yscale('log')\n",
    "# plt.figure()\n",
    "# plt.hist(data, bins=bins, edgecolor='black', log=True)\n"
   ]
  },
  {
   "cell_type": "code",
   "execution_count": null,
   "metadata": {},
   "outputs": [],
   "source": [
    "from sklearn import datasets\n",
    "\n",
    "iris = datasets.load_iris()\n",
    "X, y = iris.data, iris.target\n",
    "plt.figure(0)\n",
    "plt.subplot(111, projection='3d')\n",
    "plt.plot(X[:,0], X[:,1], X[:,2])\n",
    "np.unique(iris.target)"
   ]
  }
 ],
 "metadata": {
  "kernelspec": {
   "display_name": "Python 3",
   "language": "python",
   "name": "python3"
  },
  "language_info": {
   "codemirror_mode": {
    "name": "ipython",
    "version": 3
   },
   "file_extension": ".py",
   "mimetype": "text/x-python",
   "name": "python",
   "nbconvert_exporter": "python",
   "pygments_lexer": "ipython3",
   "version": "3.10.3"
  },
  "orig_nbformat": 4
 },
 "nbformat": 4,
 "nbformat_minor": 2
}
